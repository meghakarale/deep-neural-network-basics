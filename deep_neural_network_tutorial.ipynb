{
 "cells": [
  {
   "cell_type": "markdown",
   "id": "b157965e",
   "metadata": {},
   "source": [
    "# Deep Neural Network Tutorial for Beginners\n",
    "This tutorial introduces the concept of Deep Neural Networks (DNNs) using TensorFlow and Keras. We will build a model to classify handwritten digits from the MNIST dataset."
   ]
  },
  {
   "cell_type": "markdown",
   "id": "59b82c05",
   "metadata": {},
   "source": [
    "## 📚 What You'll Learn\n",
    "- What is a neural network?\n",
    "- Understanding input, hidden, and output layers\n",
    "- Building a DNN with Keras\n",
    "- Training, evaluating, and making predictions\n"
   ]
  },
  {
   "cell_type": "code",
   "execution_count": null,
   "id": "7d902620",
   "metadata": {},
   "outputs": [],
   "source": [
    "# Install TensorFlow\n",
    "!pip install tensorflow"
   ]
  },
  {
   "cell_type": "code",
   "execution_count": null,
   "id": "9721fe04",
   "metadata": {},
   "outputs": [],
   "source": [
    "# Import required libraries\n",
    "import tensorflow as tf\n",
    "from tensorflow.keras.models import Sequential\n",
    "from tensorflow.keras.layers import Dense, Flatten\n",
    "from tensorflow.keras.datasets import mnist\n",
    "from tensorflow.keras.utils import to_categorical\n",
    "import matplotlib.pyplot as plt"
   ]
  },
  {
   "cell_type": "markdown",
   "id": "8413359b",
   "metadata": {},
   "source": [
    "## Step 1: Load and Explore the MNIST Dataset"
   ]
  },
  {
   "cell_type": "code",
   "execution_count": null,
   "id": "18d77020",
   "metadata": {},
   "outputs": [],
   "source": [
    "(x_train, y_train), (x_test, y_test) = mnist.load_data()\n",
    "print('Training data shape:', x_train.shape)\n",
    "print('Test data shape:', x_test.shape)"
   ]
  },
  {
   "cell_type": "code",
   "execution_count": null,
   "id": "eba7295c",
   "metadata": {},
   "outputs": [],
   "source": [
    "# Show an example digit\n",
    "plt.imshow(x_train[0], cmap='gray')\n",
    "plt.title(f\"Label: {y_train[0]}\")\n",
    "plt.show()"
   ]
  },
  {
   "cell_type": "markdown",
   "id": "a8e66913",
   "metadata": {},
   "source": [
    "## 🔧 Step 2: Preprocess the Data"
   ]
  },
  {
   "cell_type": "code",
   "execution_count": null,
   "id": "a89aabbd",
   "metadata": {},
   "outputs": [],
   "source": [
    "# Normalize pixel values to [0, 1] range\n",
    "x_train = x_train / 255.0\n",
    "x_test = x_test / 255.0\n",
    "\n",
    "# One-hot encode labels\n",
    "y_train = to_categorical(y_train, 10)\n",
    "y_test = to_categorical(y_test, 10)"
   ]
  },
  {
   "cell_type": "markdown",
   "id": "8cce3f6d",
   "metadata": {},
   "source": [
    "## Step 3: Build the Deep Neural Network"
   ]
  },
  {
   "cell_type": "code",
   "execution_count": null,
   "id": "eb3f304e",
   "metadata": {},
   "outputs": [],
   "source": [
    "model = Sequential([\n",
    "    Flatten(input_shape=(28, 28)),\n",
    "    Dense(128, activation='relu'),\n",
    "    Dense(64, activation='relu'),\n",
    "    Dense(10, activation='softmax')\n",
    "])\n",
    "model.summary()"
   ]
  },
  {
   "cell_type": "markdown",
   "id": "580d5d1d",
   "metadata": {},
   "source": [
    "## Step 4: Compile and Train the Model"
   ]
  },
  {
   "cell_type": "code",
   "execution_count": null,
   "id": "b08b8a3d",
   "metadata": {},
   "outputs": [],
   "source": [
    "model.compile(optimizer='adam',\n",
    "              loss='categorical_crossentropy',\n",
    "              metrics=['accuracy'])\n",
    "\n",
    "history = model.fit(x_train, y_train, epochs=5, batch_size=32, validation_split=0.2)"
   ]
  },
  {
   "cell_type": "markdown",
   "id": "703bc0ab",
   "metadata": {},
   "source": [
    "## Step 5: Evaluate the Model"
   ]
  },
  {
   "cell_type": "code",
   "execution_count": null,
   "id": "1ace7bd4",
   "metadata": {},
   "outputs": [],
   "source": [
    "loss, accuracy = model.evaluate(x_test, y_test)\n",
    "print(f\"Test Accuracy: {accuracy * 100:.2f}%\")"
   ]
  },
  {
   "cell_type": "markdown",
   "id": "f9867029",
   "metadata": {},
   "source": [
    "## Step 6: Make Predictions"
   ]
  },
  {
   "cell_type": "code",
   "execution_count": null,
   "id": "7f4bb3db",
   "metadata": {},
   "outputs": [],
   "source": [
    "import numpy as np\n",
    "predictions = model.predict(x_test)\n",
    "predicted_labels = np.argmax(predictions, axis=1)\n",
    "actual_labels = np.argmax(y_test, axis=1)\n",
    "print(f\"Predicted: {predicted_labels[:5]}\")\n",
    "print(f\"Actual:    {actual_labels[:5]}\")"
   ]
  },
  {
   "cell_type": "markdown",
   "id": "89c54b43",
   "metadata": {},
   "source": [
    "## Summary\n",
    "- You built a deep neural network with multiple layers\n",
    "- You trained it to classify digits with high accuracy\n",
    "- You learned how to evaluate and predict with DNNs\n",
    "\n",
    "Explore modifying layers, changing activations, or increasing epochs to improve accuracy!"
   ]
  }
 ],
 "metadata": {},
 "nbformat": 4,
 "nbformat_minor": 5
}
